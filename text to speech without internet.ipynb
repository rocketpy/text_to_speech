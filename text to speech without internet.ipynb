{
 "cells": [
  {
   "cell_type": "code",
   "execution_count": null,
   "metadata": {},
   "outputs": [],
   "source": [
    "#  pip install pyttsx3\n",
    "#  https://pypi.org/project/pyttsx3/\n",
    "#  https://pyttsx3.readthedocs.io/en/latest/- official"
   ]
  },
  {
   "cell_type": "code",
   "execution_count": null,
   "metadata": {},
   "outputs": [],
   "source": [
    "#  more examples from official web page  : https://pyttsx3.readthedocs.io/en/latest/engine.html#examples"
   ]
  },
  {
   "cell_type": "code",
   "execution_count": null,
   "metadata": {},
   "outputs": [],
   "source": [
    "import pyttsx3\n",
    "\n",
    "\n",
    "engine = pyttsx3.init()\n",
    "engine.say(\"Text to speech\")\n",
    "engine.runAndWait()\n",
    "\n",
    "# or with some text file\n",
    "\"\"\"\n",
    "import pyttsx3\n",
    "\n",
    "with open(\"text_file.txt\") as fie:\n",
    "    engine = pyttsx3.init()\n",
    "    engine.say(file)\n",
    "    engine.runAndWait()\n",
    "\"\"\""
   ]
  },
  {
   "cell_type": "code",
   "execution_count": null,
   "metadata": {},
   "outputs": [],
   "source": [
    "#  this code taked from official web page !!! (https://pypi.org/project/pyttsx3/)\n",
    "\n",
    "#  changing voice , rate and volume\n",
    "import pyttsx3\n",
    "\n",
    "\n",
    "engine = pyttsx3.init() # object creation\n",
    "\n",
    "# rate it's a speed of speech norm = 200\n",
    "rate = engine.getProperty('rate')   # getting details of current speaking rate\n",
    "print (rate)                        #printing current voice rate\n",
    "engine.setProperty('rate', 125)     # setting up new voice rate\n",
    "\n",
    "# volume\n",
    "volume = engine.getProperty('volume')   #getting to know current volume level (min=0 and max=1)\n",
    "print (volume)                          #printing current volume level\n",
    "engine.setProperty('volume',1.0)    # setting up volume level  between 0 and 1\n",
    "\n",
    "# voice\n",
    "voices = engine.getProperty('voices')       #getting details of current voice\n",
    "#engine.setProperty('voice', voices[0].id)  #changing index, changes voices. o for male\n",
    "engine.setProperty('voice', voices[1].id)   #changing index, changes voices. 1 for female\n",
    "\n",
    "engine.say(\"Hello World!\")\n",
    "engine.say('My current speaking rate is ' + str(rate))\n",
    "engine.runAndWait()\n",
    "engine.stop()"
   ]
  }
 ],
 "metadata": {
  "kernelspec": {
   "display_name": "Python 3",
   "language": "python",
   "name": "python3"
  },
  "language_info": {
   "codemirror_mode": {
    "name": "ipython",
    "version": 3
   },
   "file_extension": ".py",
   "mimetype": "text/x-python",
   "name": "python",
   "nbconvert_exporter": "python",
   "pygments_lexer": "ipython3",
   "version": "3.6.2"
  }
 },
 "nbformat": 4,
 "nbformat_minor": 2
}
