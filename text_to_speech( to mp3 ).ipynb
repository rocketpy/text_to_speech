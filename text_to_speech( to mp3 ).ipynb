{
 "cells": [
  {
   "cell_type": "code",
   "execution_count": null,
   "metadata": {},
   "outputs": [],
   "source": [
    "#  https://gtts.readthedocs.io/en/latest/\n",
    "#  pip install gtts"
   ]
  },
  {
   "cell_type": "code",
   "execution_count": null,
   "metadata": {},
   "outputs": [],
   "source": [
    "import os\n",
    "from gtts import gTTS\n",
    "\n",
    "\n",
    "some_text = 'It features flexible pre-processing and tokenizing, as well as automatic retrieval of supported languages.'\n",
    "\n",
    "language = 'en'\n",
    "\n",
    "result = gTTS(text=some_text, lang=language, slow=False)\n",
    "\n",
    "result.save('result.mp3')\n",
    "\n",
    "os.system('start result.mp3')  # run mp3 file"
   ]
  },
  {
   "cell_type": "code",
   "execution_count": null,
   "metadata": {},
   "outputs": [],
   "source": [
    "# usyng some text file\n",
    "import os\n",
    "from gtts import gTTS\n",
    "\n",
    "\n",
    "text_file = open(\"file_name.txt\", \"r\")  # r mode by default\n",
    "\n",
    "some_text = text_file.read().replace(\"\\n\", \" \")\n",
    "\n",
    "language = 'en'\n",
    "\n",
    "result = gTTS(text=some_text, lang=language, slow=False)\n",
    "\n",
    "result.save('result.mp3')\n",
    "\n",
    "text_file.close()\n",
    "\n",
    "os.system('start result.mp3')  # run mp3 file"
   ]
  }
 ],
 "metadata": {
  "kernelspec": {
   "display_name": "Python 3",
   "language": "python",
   "name": "python3"
  },
  "language_info": {
   "codemirror_mode": {
    "name": "ipython",
    "version": 3
   },
   "file_extension": ".py",
   "mimetype": "text/x-python",
   "name": "python",
   "nbconvert_exporter": "python",
   "pygments_lexer": "ipython3",
   "version": "3.6.2"
  }
 },
 "nbformat": 4,
 "nbformat_minor": 2
}
