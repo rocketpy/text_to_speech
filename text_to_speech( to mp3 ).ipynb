{
 "cells": [
  {
   "cell_type": "code",
   "execution_count": null,
   "metadata": {},
   "outputs": [],
   "source": [
    "#  https://gtts.readthedocs.io/en/latest/\n",
    "#  pip install gtts"
   ]
  },
  {
   "cell_type": "code",
   "execution_count": null,
   "metadata": {},
   "outputs": [],
   "source": [
    "import os\n",
    "from gtts import gTTS\n",
    "\n",
    "\n",
    "some_text = 'It features flexible pre-processing and tokenizing, as well as automatic retrieval of supported languages.'\n",
    "\n",
    "language = 'en'\n",
    "\n",
    "result = gTTS(text=some_text, lang=language, slow=False)\n",
    "\n",
    "result.save('result.mp3')\n",
    "\n",
    "os.system('start result.mp3')  # run mp3 file"
   ]
  },
  {
   "cell_type": "code",
   "execution_count": null,
   "metadata": {},
   "outputs": [],
   "source": [
    "# usyng some text file\n",
    "import os\n",
    "from gtts import gTTS\n",
    "\n",
    "\n",
    "# text_file = open(\"file_name.txt\", \"r\")  # r mode by default\n",
    "\n",
    "with open(\"file_name.txt\") as f:\n",
    "    some_text = f.read().replace(\"\\n\", \" \")\n",
    "language = 'en'\n",
    "result = gTTS(text=some_text, lang=language, slow=False)\n",
    "result.save('result.mp3')\n",
    "\n",
    "# text_file.close()\n",
    "\n",
    "os.system('start result.mp3')  # run mp3 file"
   ]
  },
  {
   "cell_type": "code",
   "execution_count": null,
   "metadata": {},
   "outputs": [],
   "source": [
    "from gtts import gTTS\n",
    "\n",
    "\n",
    "text = gTTS(\"Some text\", \"en\", \"slow\")\n",
    "text.save(\"file_name.mp3\")"
   ]
  },
  {
   "cell_type": "code",
   "execution_count": null,
   "metadata": {},
   "outputs": [],
   "source": [
    "from gtts import gTTS\n",
    "\n",
    "\n",
    "text = \"\"\n",
    "with open(\"file_name.txt\", \"r\") as f:\n",
    "    for l in file:\n",
    "        text = text + l\n",
    "        \n",
    "spch = gTTS(text, \"en\", \"slow\")\n",
    "spch.save(\"file_name.mp3\")"
   ]
  }
 ],
 "metadata": {
  "kernelspec": {
   "display_name": "Python 3",
   "language": "python",
   "name": "python3"
  },
  "language_info": {
   "codemirror_mode": {
    "name": "ipython",
    "version": 3
   },
   "file_extension": ".py",
   "mimetype": "text/x-python",
   "name": "python",
   "nbconvert_exporter": "python",
   "pygments_lexer": "ipython3",
   "version": "3.6.2"
  }
 },
 "nbformat": 4,
 "nbformat_minor": 2
}
